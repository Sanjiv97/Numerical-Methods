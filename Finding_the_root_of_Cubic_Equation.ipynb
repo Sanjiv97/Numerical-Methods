{
  "nbformat": 4,
  "nbformat_minor": 0,
  "metadata": {
    "colab": {
      "name": "Finding the root of Cubic Equation",
      "provenance": [],
      "authorship_tag": "ABX9TyOsPeGHlzo4ymwLMFnwSRIr",
      "include_colab_link": true
    },
    "kernelspec": {
      "name": "python3",
      "display_name": "Python 3"
    }
  },
  "cells": [
    {
      "cell_type": "markdown",
      "metadata": {
        "id": "view-in-github",
        "colab_type": "text"
      },
      "source": [
        "<a href=\"https://colab.research.google.com/github/Sanjiv97/Numerical-Methods/blob/main/Finding_the_root_of_Cubic_Equation.ipynb\" target=\"_parent\"><img src=\"https://colab.research.google.com/assets/colab-badge.svg\" alt=\"Open In Colab\"/></a>"
      ]
    },
    {
      "cell_type": "markdown",
      "metadata": {
        "id": "YfC5Pb-FcGju"
      },
      "source": [
        "Sanjiv Tamang\r\n",
        "\r\n"
      ]
    },
    {
      "cell_type": "code",
      "metadata": {
        "id": "Ac2hWntUJ7Ws"
      },
      "source": [
        "# importing necessary libraries \r\n",
        "import numpy as np \r\n",
        "from scipy.misc import derivative\r\n",
        "import numpy as np\r\n",
        "import matplotlib.pyplot as plt\r\n"
      ],
      "execution_count": null,
      "outputs": []
    },
    {
      "cell_type": "code",
      "metadata": {
        "colab": {
          "base_uri": "https://localhost:8080/"
        },
        "id": "cYBpaIPIKyjQ",
        "outputId": "9b4afc0d-4986-44a1-9c4c-0bb66ed43d20"
      },
      "source": [
        "n=1   #setting up the starting point\r\n",
        "x = np.linspace(-1, 1,200)  # Creating range for an evenly sequenced of numbers.\r\n",
        "\r\n",
        "def equation(x):  # defining my own equation or function \r\n",
        "  return 5*x**3-4*x**2+3*x+0\r\n",
        "# Definning the function to calculate the next value for root\r\n",
        "def next(equation, x, n): \r\n",
        "  slope = derivative(equation, n, dx=1) \r\n",
        "  return n - equation(n)/slope \r\n",
        "\r\n",
        "  # Using for loop to print the values \r\n",
        "for value in range (20): \r\n",
        "  print(n)     \r\n",
        "  n = next(equation,x,n)"
      ],
      "execution_count": null,
      "outputs": [
        {
          "output_type": "stream",
          "text": [
            "1\n",
            "0.7333333333333334\n",
            "0.5352214960058098\n",
            "0.3822089909634665\n",
            "0.26425079604707435\n",
            "0.1768913774897523\n",
            "0.11548322848444562\n",
            "0.07414219132528456\n",
            "0.04710686900830552\n",
            "0.029740155403233735\n",
            "0.018703465559517428\n",
            "0.01173471765971737\n",
            "0.007351739034257636\n",
            "0.004601673515738267\n",
            "0.00287871265032529\n",
            "0.0018002361232610884\n",
            "0.0011255538680558477\n",
            "0.0007036298160652051\n",
            "0.0004398305926591244\n",
            "0.0002749183190625782\n"
          ],
          "name": "stdout"
        }
      ]
    },
    {
      "cell_type": "markdown",
      "metadata": {
        "id": "N3STQkYTX9xW"
      },
      "source": [
        ""
      ]
    },
    {
      "cell_type": "code",
      "metadata": {
        "colab": {
          "base_uri": "https://localhost:8080/",
          "height": 295
        },
        "id": "tLs2sEIMOMlT",
        "outputId": "cd7247b7-4d9d-45c6-fcd0-77607553bb34"
      },
      "source": [
        "import numpy as np\r\n",
        "import matplotlib.pyplot as plt\r\n",
        "x = np.arange(-4,5,0.2) #  Creating numerical ranges\r\n",
        "y = [(5*i**3 - 4*i**2 - 3*i + 0)for i in x]\r\n",
        "plt.plot(x,y, label='5x^3-4x^2-3x+0')  # labelling x and y with the function \r\n",
        "plt.legend()\r\n",
        "plt.grid(True) # showing grids \r\n",
        "plt.xlabel(\"X\") \r\n",
        "plt.ylabel(\"Y\")\r\n",
        "plt.title(\"Graph of cubical function\")\r\n",
        "plt.show()\r\n"
      ],
      "execution_count": null,
      "outputs": [
        {
          "output_type": "display_data",
          "data": {
            "image/png": "[encoded data removed]",
            "text/plain": [
              "<Figure size 432x288 with 1 Axes>"
            ]
          },
          "metadata": {
            "tags": [],
            "needs_background": "light"
          }
        }
      ]
    },
    {
      "cell_type": "markdown",
      "metadata": {
        "id": "jb9PfcS4KV4-"
      },
      "source": [
        "Overall, Using the Newtons Raphson method,  the square root value of the function 5x^3-4x^2-3x=0 can be found out."
      ]
    }
  ]
}
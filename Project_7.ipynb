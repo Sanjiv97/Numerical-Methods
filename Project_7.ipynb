{
  "nbformat": 4,
  "nbformat_minor": 0,
  "metadata": {
    "colab": {
      "name": "Project 7",
      "provenance": [],
      "collapsed_sections": [],
      "include_colab_link": true
    },
    "kernelspec": {
      "name": "python3",
      "display_name": "Python 3"
    }
  },
  "cells": [
    {
      "cell_type": "markdown",
      "metadata": {
        "id": "view-in-github",
        "colab_type": "text"
      },
      "source": [
        "<a href=\"https://colab.research.google.com/github/Sanjiv97/Numerical-Methods/blob/main/Project_7.ipynb\" target=\"_parent\"><img src=\"https://colab.research.google.com/assets/colab-badge.svg\" alt=\"Open In Colab\"/></a>"
      ]
    },
    {
      "cell_type": "markdown",
      "metadata": {
        "id": "K9HWO09xCyGI"
      },
      "source": [
        "#**Project 7**#\r\n",
        "##Aayush K, Sanjiv T, Kushal K, Bekkah M##\r\n",
        "###Numerical Methods--Dr Jacob###"
      ]
    },
    {
      "cell_type": "markdown",
      "metadata": {
        "id": "n2p8FiqVDKg8"
      },
      "source": [
        "First, I will load all of the packages needed to help make this project a success. "
      ]
    },
    {
      "cell_type": "code",
      "metadata": {
        "id": "pnpKcgXCCq7S"
      },
      "source": [
        "import numpy as np\r\n",
        "from scipy import integrate\r\n",
        "import matplotlib.pyplot as plt\r\n",
        "import pandas as pa\r\n",
        "import math\r\n",
        "f =lambda x : 1/(1-x)\r\n",
        "  \r\n",
        "\r\n",
        "%matplotlib inline"
      ],
      "execution_count": 130,
      "outputs": []
    },
    {
      "cell_type": "markdown",
      "metadata": {
        "id": "TMDB7RBtDVqv"
      },
      "source": [
        "#***Riemann Integration***#"
      ]
    },
    {
      "cell_type": "markdown",
      "metadata": {
        "id": "u8wnihJ4DcNj"
      },
      "source": [
        "Our original function from Project 1 was $\\frac {1}{1-x}\\ $. We will evaluate this function on the interval [-3,0] to find the signed area under the curve pictured below:"
      ]
    },
    {
      "cell_type": "code",
      "metadata": {
        "colab": {
          "base_uri": "https://localhost:8080/",
          "height": 298
        },
        "id": "fKWTCd4J_L8T",
        "outputId": "b89668b9-f7a0-4b2c-d674-4f3be0372a1d"
      },
      "source": [
        "x = np.arange(-3,0,0.1)\r\n",
        "plt.plot(x,f(x))\r\n",
        "plt.title('Graph of Original Function',)"
      ],
      "execution_count": 131,
      "outputs": [
        {
          "output_type": "execute_result",
          "data": {
            "text/plain": [
              "Text(0.5, 1.0, 'Graph of Original Function')"
            ]
          },
          "metadata": {
            "tags": []
          },
          "execution_count": 131
        },
        {
          "output_type": "display_data",
          "data": {
            "image/png": "[encoded data removed]",
            "text/plain": [
              "<Figure size 432x288 with 1 Axes>"
            ]
          },
          "metadata": {
            "tags": [],
            "needs_background": "light"
          }
        }
      ]
    },
    {
      "cell_type": "markdown",
      "metadata": {
        "id": "pdpUXf9BE3i4"
      },
      "source": [
        "$$\r\n",
        "A = \\int_{-3}^0 \\frac {1}{1-x}\\ dx\r\n",
        "$$"
      ]
    },
    {
      "cell_type": "markdown",
      "metadata": {
        "id": "Y3T8-lAIHVMP"
      },
      "source": [
        "Using the u-substitution method and changing the bounds of the integral to reflect that: \r\n",
        "**u = (1-x)**\r\n",
        "$$\r\n",
        "A = \\int_{4}^1 -\\frac {1}{u}\\ du\r\n",
        "$$"
      ]
    },
    {
      "cell_type": "markdown",
      "metadata": {
        "id": "CmjsPAjrJV5t"
      },
      "source": [
        "Factoring out the constant and completing the integral will give us: \r\n",
        "$$\r\n",
        "A = -\\int_{4}^1 \\frac {1}{u}\\ du\r\n",
        "$$\r\n",
        "\r\n",
        "$$\r\n",
        " = ln|u|\\vert_4^1 \\\r\n",
        "$$\r\n",
        "$$\r\n",
        "= ln|4|-ln|1|\r\n",
        "$$\r\n",
        "$$\r\n",
        "= 2ln(2)\\approx 1.38629\r\n",
        "$$\r\n",
        "\r\n",
        "\r\n"
      ]
    },
    {
      "cell_type": "markdown",
      "metadata": {
        "id": "9b6qONKS9l7D"
      },
      "source": [
        "That integral wasn't too hard! I'll now use software implemented in python to check the answer I got. "
      ]
    },
    {
      "cell_type": "code",
      "metadata": {
        "id": "qVlKYkNkHyLY",
        "colab": {
          "base_uri": "https://localhost:8080/"
        },
        "outputId": "09e35c1d-e0c0-4add-d650-db9714bca90e"
      },
      "source": [
        "integrate.quad(f,-3,0)"
      ],
      "execution_count": 132,
      "outputs": [
        {
          "output_type": "execute_result",
          "data": {
            "text/plain": [
              "(1.3862943611198906, 5.81399868904736e-11)"
            ]
          },
          "metadata": {
            "tags": []
          },
          "execution_count": 132
        }
      ]
    },
    {
      "cell_type": "markdown",
      "metadata": {
        "id": "mwPRWxTc-ZsU"
      },
      "source": [
        "Our value and the computer's match, so we know we did it correctly!"
      ]
    },
    {
      "cell_type": "code",
      "metadata": {
        "id": "vMi_p-2GZNg-"
      },
      "source": [
        "def dlx(a,b,n):\n",
        "  return (b-a)/n\n",
        " \n",
        "def riemannSum(function,a,b,n,indicator = 'R'):\n",
        "  dx = dlx(a,b,n)\n",
        "  if indicator == 'R':\n",
        "    start = 1\n",
        "  elif indicator == 'L':\n",
        "    start = 0\n",
        "  elif indicator == 'M':\n",
        "    start = 0.5\n",
        "  sum = 0\n",
        "  for j in np.arange(start,n+start):\n",
        "    sum = sum + function(a + j*dx)*dx\n",
        "  return sum"
      ],
      "execution_count": 133,
      "outputs": []
    },
    {
      "cell_type": "markdown",
      "metadata": {
        "id": "i0dOZrbj0_kg"
      },
      "source": [
        "Now,implementing our function f(x)=1/1-x in the riemannSum to get left end point."
      ]
    },
    {
      "cell_type": "code",
      "metadata": {
        "colab": {
          "base_uri": "https://localhost:8080/"
        },
        "id": "ddwzDzhPgxYV",
        "outputId": "692f9a06-50ca-480a-a89b-888ea2ea7ec9"
      },
      "source": [
        "riemannSum(f,-3,0,10,'L')"
      ],
      "execution_count": 134,
      "outputs": [
        {
          "output_type": "execute_result",
          "data": {
            "text/plain": [
              "1.2807610298649446"
            ]
          },
          "metadata": {
            "tags": []
          },
          "execution_count": 134
        }
      ]
    },
    {
      "cell_type": "markdown",
      "metadata": {
        "id": "ZXO7Ex1N2EUv"
      },
      "source": [
        "Now,implementing our function f(x)=1/1-x in the riemannSum to get the value of mid point."
      ]
    },
    {
      "cell_type": "code",
      "metadata": {
        "colab": {
          "base_uri": "https://localhost:8080/"
        },
        "id": "UCgd70dzho8I",
        "outputId": "ed8aa8a7-d072-4e19-9cc8-1d5e75b9ffb2"
      },
      "source": [
        "riemannSum(f,-3,0,10,'M')"
      ],
      "execution_count": 135,
      "outputs": [
        {
          "output_type": "execute_result",
          "data": {
            "text/plain": [
              "1.3828350011601598"
            ]
          },
          "metadata": {
            "tags": []
          },
          "execution_count": 135
        }
      ]
    },
    {
      "cell_type": "markdown",
      "metadata": {
        "id": "ynFzAz8I1dHM"
      },
      "source": [
        "Again,implementing our function f(x)=1/1-x in the riemannSum to get value for right end point."
      ]
    },
    {
      "cell_type": "code",
      "metadata": {
        "colab": {
          "base_uri": "https://localhost:8080/"
        },
        "id": "j5pFb5s4iEmG",
        "outputId": "3255338e-d781-4d45-eb03-4471edcd582f"
      },
      "source": [
        "riemannSum(f,-3,0,10,'R')"
      ],
      "execution_count": 136,
      "outputs": [
        {
          "output_type": "execute_result",
          "data": {
            "text/plain": [
              "1.5057610298649446"
            ]
          },
          "metadata": {
            "tags": []
          },
          "execution_count": 136
        }
      ]
    },
    {
      "cell_type": "markdown",
      "metadata": {
        "id": "iVCnX6dVWsuQ"
      },
      "source": [
        "Let's visualize rectangles in the left, right and midpoint Riemann sums for the function f(x)= 1/1-x.\r\n",
        "\r\n",
        "over the interval [-3,0] with a partition of size n = 10 ."
      ]
    },
    {
      "cell_type": "code",
      "metadata": {
        "colab": {
          "base_uri": "https://localhost:8080/",
          "height": 336
        },
        "id": "9xYgQYPLUi4u",
        "outputId": "9c5105ca-0cdd-4a58-9cac-0e470caca61d"
      },
      "source": [
        "f = lambda x : 1/(1-x)\r\n",
        "a = -3; b = 0; N = 10\r\n",
        "n = 10 # Use n*N+1 points to plot the function smoothly\r\n",
        "\r\n",
        "x = np.linspace(a,b,N+1)\r\n",
        "y = f(x)\r\n",
        "\r\n",
        "X = np.linspace(a,b,n*N+1)\r\n",
        "Y = f(X)\r\n",
        "\r\n",
        "plt.figure(figsize=(15,5))\r\n",
        "\r\n",
        "plt.subplot(1,3,1)\r\n",
        "plt.plot(X,Y,'b')\r\n",
        "x_left = x[:-1] # Left endpoints\r\n",
        "y_left = y[:-1]\r\n",
        "plt.plot(x_left,y_left,'b.',markersize=10)\r\n",
        "plt.bar(x_left,y_left,width=(b-a)/N,alpha=0.2,align='edge',edgecolor='b')\r\n",
        "plt.title('Left Riemann Sum, N = {}'.format(N))\r\n",
        "\r\n",
        "plt.subplot(1,3,2)\r\n",
        "plt.plot(X,Y,'b')\r\n",
        "x_mid = (x[:-1] + x[1:])/2 # Midpoints\r\n",
        "y_mid = f(x_mid)\r\n",
        "plt.plot(x_mid,y_mid,'b.',markersize=10)\r\n",
        "plt.bar(x_mid,y_mid,width=(b-a)/N,alpha=0.2,edgecolor='b')\r\n",
        "plt.title('Midpoint Riemann Sum, N = {}'.format(N))\r\n",
        "\r\n",
        "plt.subplot(1,3,3)\r\n",
        "plt.plot(X,Y,'b')\r\n",
        "x_right = x[1:] # Left endpoints\r\n",
        "y_right = y[1:]\r\n",
        "plt.plot(x_right,y_right,'b.',markersize=10)\r\n",
        "plt.bar(x_right,y_right,width=-(b-a)/N,alpha=0.2,align='edge',edgecolor='b')\r\n",
        "plt.title('Right Riemann Sum, N = {}'.format(N))\r\n",
        "\r\n",
        "plt.show()"
      ],
      "execution_count": 137,
      "outputs": [
        {
          "output_type": "display_data",
          "data": {
            "image/png": "[encoded data removed]",
            "text/plain": [
              "<Figure size 1080x360 with 3 Axes>"
            ]
          },
          "metadata": {
            "tags": [],
            "needs_background": "light"
          }
        }
      ]
    },
    {
      "cell_type": "markdown",
      "metadata": {
        "id": "SQFgdY9BVvC9"
      },
      "source": [
        "Notice that when the function f(x) is increasing on  the left endpoints give an underestimate of the integral  and right endpoints give an overestimate. The opposite is true is when the function is decreasing."
      ]
    },
    {
      "cell_type": "markdown",
      "metadata": {
        "id": "I9kwTzTMIwUM"
      },
      "source": [
        "#Simpson Frac Rule\n",
        "$$\n",
        "\\int_a^b f(x)\\ dx\n",
        "\\approx \n",
        "\\frac{\\Delta x}3 \n",
        "\\left[\n",
        "f(a)\n",
        "+\n",
        "4\\sum_{odd} f(x_i)\n",
        "+\n",
        "2\\sum_{even} f(x_i)\n",
        "+\n",
        "f(b)\n",
        "\\right]\n",
        "$$"
      ]
    },
    {
      "cell_type": "code",
      "metadata": {
        "id": "O6rw08LDjwAC"
      },
      "source": [
        "def simpson(function, a, b , n):\r\n",
        "  dx = dlx(a,b,n)\r\n",
        "  sum = 0\r\n",
        "  for i in range(1,n,2): \r\n",
        "    sum = sum + 4*function(a+dx*i)\r\n",
        "  for i in range(0,n,2): \r\n",
        "    sum = sum + 2*function(a+dx*i)\r\n",
        "  for i in [a,b]: \r\n",
        "    sum = sum + function(i)\r\n",
        "  sum = dx /3 *sum\r\n",
        "  return sum"
      ],
      "execution_count": 138,
      "outputs": []
    },
    {
      "cell_type": "markdown",
      "metadata": {
        "id": "w5mpkQmT2U-T"
      },
      "source": [
        " Implementing our function f(x)=1/1-x in the Simpsons rule."
      ]
    },
    {
      "cell_type": "code",
      "metadata": {
        "colab": {
          "base_uri": "https://localhost:8080/"
        },
        "id": "MxgWLYvujxgm",
        "outputId": "0d0ab1c3-3610-4434-bcfd-9aa90904d705"
      },
      "source": [
        "simpson(f, -3 , 0,10)"
      ],
      "execution_count": 139,
      "outputs": [
        {
          "output_type": "execute_result",
          "data": {
            "text/plain": [
              "1.4365201814038322"
            ]
          },
          "metadata": {
            "tags": []
          },
          "execution_count": 139
        }
      ]
    },
    {
      "cell_type": "markdown",
      "metadata": {
        "id": "7YMxRx4WI6Dw"
      },
      "source": [
        "#Trapezoid Rule\n",
        "It states that it is a rule which evaluates the area under the curves by dividing the total area into smaller trapezoids. Then, the integration is found out by the approximation of the region under the graph of a function of its trapezoid.\n",
        "$$\n",
        "\\int_a^b f(x)\\ dx\\approx \\frac{\\Delta x}{2}\n",
        "\\left[\n",
        "f(a) \n",
        "+\n",
        "2\\left(\n",
        "\\sum_{i=1}^{n-1} f(a+i\\Delta x)\n",
        "  \\right)\n",
        "  +\n",
        "  f(b)\n",
        "  \\right]\n",
        "$$\n"
      ]
    },
    {
      "cell_type": "code",
      "metadata": {
        "id": "zNiStNefkBqF"
      },
      "source": [
        "def trapezoid (function, a, b, n):\n",
        "  dx = dlx(a,b,n)\n",
        "  sum = 0\n",
        "  for i in range(1,n):\n",
        "    sum = sum + 2*function(a+i*dx)\n",
        "  for i in [a,b]:\n",
        "    sum = sum +function(i)\n",
        "  sum = dx/2 *sum\n",
        "  return sum"
      ],
      "execution_count": 140,
      "outputs": []
    },
    {
      "cell_type": "markdown",
      "metadata": {
        "id": "_-ClK70lyeTG"
      },
      "source": [
        " Implementing our function f(x)=1/1-x in the defined function of  Trapezoid."
      ]
    },
    {
      "cell_type": "code",
      "metadata": {
        "colab": {
          "base_uri": "https://localhost:8080/"
        },
        "id": "1eDkY6ZnkJk1",
        "outputId": "329c7f49-c11d-47d2-f134-b4827241579e"
      },
      "source": [
        "trapezoid(f, -3 , 0, 10)"
      ],
      "execution_count": 141,
      "outputs": [
        {
          "output_type": "execute_result",
          "data": {
            "text/plain": [
              "1.3932610298649446"
            ]
          },
          "metadata": {
            "tags": []
          },
          "execution_count": 141
        }
      ]
    }
  ]
}
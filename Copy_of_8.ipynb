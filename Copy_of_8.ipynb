{
  "nbformat": 4,
  "nbformat_minor": 0,
  "metadata": {
    "colab": {
      "name": "Copy of 8",
      "provenance": [],
      "collapsed_sections": [],
      "include_colab_link": true
    },
    "kernelspec": {
      "name": "python3",
      "display_name": "Python 3"
    }
  },
  "cells": [
    {
      "cell_type": "markdown",
      "metadata": {
        "id": "view-in-github",
        "colab_type": "text"
      },
      "source": [
        "<a href=\"https://colab.research.google.com/github/Sanjiv97/Numerical-Methods/blob/main/Copy_of_8.ipynb\" target=\"_parent\"><img src=\"https://colab.research.google.com/assets/colab-badge.svg\" alt=\"Open In Colab\"/></a>"
      ]
    },
    {
      "cell_type": "markdown",
      "metadata": {
        "id": "XlQoCBmEU-K4"
      },
      "source": [
        " #Project 8 Group 6\n",
        "##Sanjiv T, Kushal k, Aayush K,Beekah Moore\n",
        "###Numerical Methods\n",
        "###Dr. Nicholas Jacobs"
      ]
    },
    {
      "cell_type": "code",
      "metadata": {
        "id": "yvkzeUGPaKwC"
      },
      "source": [
        "import numpy as np\n",
        "from scipy import integrate\n",
        "import matplotlib.pyplot as plt\n",
        "import pandas as pa\n",
        "import math\n",
        " \n",
        "# equation 1/1-x"
      ],
      "execution_count": null,
      "outputs": []
    },
    {
      "cell_type": "markdown",
      "metadata": {
        "id": "-SkZIoV_dzIl"
      },
      "source": [
        "#Ordinary Differential Equation:\n",
        "It is an equality involving functions and its derivative:\n",
        "$$\n",
        "\\frac{dy}{dx} = f(x,y) \\quad\\quad y(x_0)=y_0\n",
        "$$\n",
        "\n",
        "Our Function from Project 1 will be \n",
        "$$\n",
        "                             \\frac{1}{1-x}\n",
        "$$\n",
        "Solving with differential equation my function will be \n",
        "$$\n",
        "        \\frac{dy}{dx}= \\frac{1}{1-x} sinx \\ y(0)=2\n",
        "$$\n",
        "After solving,\n",
        "$$\n",
        "                         =2-log(|x-1|) \n",
        "$$                  "
      ]
    },
    {
      "cell_type": "code",
      "metadata": {
        "id": "QA23fByibycC"
      },
      "source": [
        "f = lambda x,y: (1/(1-x))\n",
        "#g =lambda x :2-np.log(abs(x-1))\n",
        "g = lambda x: 1+math.e**(x+2-x**2/2)\n",
        "t = np.linspace(0, 50, 1000)"
      ],
      "execution_count": null,
      "outputs": []
    },
    {
      "cell_type": "code",
      "metadata": {
        "id": "Po_bXTQ5eByF"
      },
      "source": [
        "f = lambda x,y: (1/(1-x))\r\n",
        "g = lambda x: 1+math.e**(x+2-(x**2/2)) \r\n",
        "t = np.linspace(0, 100, 1000) \r\n"
      ],
      "execution_count": null,
      "outputs": []
    },
    {
      "cell_type": "code",
      "metadata": {
        "colab": {
          "base_uri": "https://localhost:8080/",
          "height": 283
        },
        "id": "Z0D1bs-YeaqV",
        "outputId": "185bf159-1a37-44fb-a939-f10d60be7c7b"
      },
      "source": [
        "plt.plot(t, g(t))"
      ],
      "execution_count": null,
      "outputs": [
        {
          "output_type": "execute_result",
          "data": {
            "text/plain": [
              "[<matplotlib.lines.Line2D at 0x7f9e90f52fd0>]"
            ]
          },
          "metadata": {
            "tags": []
          },
          "execution_count": 44
        },
        {
          "output_type": "display_data",
          "data": {
            "image/png": "[encoded data removed]",
            "text/plain": [
              "<Figure size 432x288 with 1 Axes>"
            ]
          },
          "metadata": {
            "tags": [],
            "needs_background": "light"
          }
        }
      ]
    },
    {
      "cell_type": "markdown",
      "metadata": {
        "id": "zzvc1ANhpdni"
      },
      "source": [
        "#Euler Method:\n",
        "We will appply Eulers Method here:\n",
        "$$y_{i+1} = y_i + f(x_i,y_i)h\n",
        "$$where, $$ $h = x_{i+1}-x_i$."
      ]
    },
    {
      "cell_type": "code",
      "metadata": {
        "id": "oDdrpyDEmJSO"
      },
      "source": [
        "def eulerMethod(func,initialValue,interval):\r\n",
        "  array = []\r\n",
        "  y=initialValue\r\n",
        "  h = interval[1]-interval[0]\r\n",
        "  for i in interval:\r\n",
        "    array.append([y])\r\n",
        "    y = y + f(i,y)*h\r\n",
        "  return np.array(array)"
      ],
      "execution_count": null,
      "outputs": []
    },
    {
      "cell_type": "code",
      "metadata": {
        "id": "FTaxy2Rcme8J"
      },
      "source": [
        "mysol = eulerMethod(f,2,t)\r\n"
      ],
      "execution_count": null,
      "outputs": []
    },
    {
      "cell_type": "code",
      "metadata": {
        "colab": {
          "base_uri": "https://localhost:8080/",
          "height": 283
        },
        "id": "B6P85oeBmfxS",
        "outputId": "9323cea2-1779-4e7f-be27-80dc98454ba8"
      },
      "source": [
        "plt.plot(t, g(t))\r\n",
        "plt.plot(t, mysol,'g')"
      ],
      "execution_count": null,
      "outputs": [
        {
          "output_type": "execute_result",
          "data": {
            "text/plain": [
              "[<matplotlib.lines.Line2D at 0x7f9e90ec2610>]"
            ]
          },
          "metadata": {
            "tags": []
          },
          "execution_count": 47
        },
        {
          "output_type": "display_data",
          "data": {
            "image/png": "[encoded data removed]",
            "text/plain": [
              "<Figure size 432x288 with 1 Axes>"
            ]
          },
          "metadata": {
            "tags": [],
            "needs_background": "light"
          }
        }
      ]
    },
    {
      "cell_type": "markdown",
      "metadata": {
        "id": "1xcq9pBopubq"
      },
      "source": [
        "#RungeKutta 4th Order:\n",
        "We will apply RangeKutta 4th order here,\n",
        "Itis an ordinary differential equation that defines value of dy/dx in the form x and y.\n",
        "we will have a start point and iterate the rest steps:\n",
        "$$\n",
        "y_{i+1} = y_i + \\frac h6 \\left( k_1+2k_2+2k_3+k_4\\right)\n",
        "$$We have$$\n",
        "\\begin{align}\n",
        "&amp;k_1 = f(x_i,y_i)\\\\\n",
        "&amp;k_2 = f\\left(x_i+\\frac h2,y_i+\\frac {k_1h}2\\right)\\\\\n",
        "&amp;k_3 = f\\left(x_i+\\frac h 2,y_i +\\frac{k_2 h}2\\right)\\\\\n",
        "&amp;k_4 = f\\left(x_i+h,y_i +k_3 h\\right)\n",
        "\\end{align}\n",
        "$$"
      ]
    },
    {
      "cell_type": "code",
      "metadata": {
        "id": "GzBBz-hSnQ_a"
      },
      "source": [
        "def rungeKutta(func, intvalue, interval):\r\n",
        "  h = interval[1]-interval[0]\r\n",
        "  y = intvalue\r\n",
        "  sol = []\r\n",
        "  for i in interval:\r\n",
        "    sol.append([y])\r\n",
        "    k1 = func(i,y)\r\n",
        "    k2 = func(i+h/2,y+k1*h/2)\r\n",
        "    k3 = func(i+ h/2,y+k2*h/2)\r\n",
        "    k4 = func(i+ h , y+k3*h)\r\n",
        "    y = y+h/6*(k1+2*k2+2*k3+k4)\r\n",
        "  return np.array(sol)"
      ],
      "execution_count": null,
      "outputs": []
    },
    {
      "cell_type": "code",
      "metadata": {
        "id": "Y8TwA39ani7y"
      },
      "source": [
        "rsol = rungeKutta(f,2,t)"
      ],
      "execution_count": null,
      "outputs": []
    },
    {
      "cell_type": "code",
      "metadata": {
        "id": "1GtyOINIntT3",
        "colab": {
          "base_uri": "https://localhost:8080/",
          "height": 299
        },
        "outputId": "177c8cbe-05d7-403d-bba4-d6d3ad907bb8"
      },
      "source": [
        "plt.plot(t, g(t),'b',label=\"Diff.Function\")\r\n",
        "plt.plot(t, mysol,'g',label=\"euler Method\")\r\n",
        "plt.plot(t,rsol,'r',label=\"Runge Kutta\")\r\n",
        "plt.legend(loc=\"upper right\")\r\n",
        "plt.title(\"Comparison adding Runge-Kutta 4th Order \")\r\n"
      ],
      "execution_count": null,
      "outputs": [
        {
          "output_type": "execute_result",
          "data": {
            "text/plain": [
              "Text(0.5, 1.0, 'Comparison adding Runge-Kutta 4th Order ')"
            ]
          },
          "metadata": {
            "tags": []
          },
          "execution_count": 50
        },
        {
          "output_type": "display_data",
          "data": {
            "image/png": "[encoded data removed]",
            "text/plain": [
              "<Figure size 432x288 with 1 Axes>"
            ]
          },
          "metadata": {
            "tags": [],
            "needs_background": "light"
          }
        }
      ]
    },
    {
      "cell_type": "code",
      "metadata": {
        "id": "DHnWF4iKnxO3"
      },
      "source": [
        "def error(actual_value, estimate_value):\r\n",
        "\r\n",
        "  error = (actual_value - estimate_value)/estimate_value\r\n",
        "  return abs(error)*100"
      ],
      "execution_count": null,
      "outputs": []
    },
    {
      "cell_type": "code",
      "metadata": {
        "colab": {
          "base_uri": "https://localhost:8080/"
        },
        "id": "le4rRe-tYxuu",
        "outputId": "23b1ca83-1f31-4575-d63c-043b93d975a1"
      },
      "source": [
        "points = np.linspace(-10, 10, 20)\r\n",
        "actual_value = [ 1+math.e**(x+2-(x**2/2)) for x in range(-10,10)]\r\n",
        "euler_value = eulerMethod(f,4,points)\r\n",
        "runge_value = rungeKutta(f,4,points)\r\n",
        "print(actual_value)"
      ],
      "execution_count": null,
      "outputs": [
        {
          "output_type": "stream",
          "text": [
            "[1.0, 1.0, 1.0, 1.0000000000001543, 1.0000000002789469, 1.0000001855391363, 1.0000453999297625, 1.004086771438464, 1.1353352832366128, 2.648721270700128, 8.389056098930649, 13.182493960703471, 8.389056098930649, 2.648721270700128, 1.1353352832366128, 1.004086771438464, 1.0000453999297625, 1.0000001855391363, 1.0000000002789469, 1.0000000000001543]\n"
          ],
          "name": "stdout"
        }
      ]
    },
    {
      "cell_type": "code",
      "metadata": {
        "id": "haSyeS_edjFJ"
      },
      "source": [
        "Numerical methods did work for us.\n",
        " We used linear equation from project 1 amd it gave us approximate solution based \n",
        "On mathematical principles."
      ],
      "execution_count": null,
      "outputs": []
    },
    {
      "cell_type": "markdown",
      "metadata": {
        "id": "qdVObVU9gXjn"
      },
      "source": [
        "#Findings:\n",
        "While using different process for the same euation we could see the difference in result every single time. Using eulers method we can see the result varies every time but runge-kutta method solution gave the same solution everytime we run the problem"
      ]
    }
  ]
}